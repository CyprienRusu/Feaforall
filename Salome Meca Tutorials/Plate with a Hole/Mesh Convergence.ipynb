{
 "cells": [
  {
   "cell_type": "code",
   "execution_count": 1,
   "metadata": {},
   "outputs": [],
   "source": [
    "import os,sys,re"
   ]
  },
  {
   "cell_type": "code",
   "execution_count": 2,
   "metadata": {},
   "outputs": [
    {
     "name": "stdout",
     "output_type": "stream",
     "text": [
      "platehole5.5.resu\n",
      "platehole3.0.resu\n",
      "platehole1.0.resu\n",
      "platehole1.5.resu\n",
      "platehole6.5.resu\n",
      "platehole4.0.resu\n",
      "platehole4.5.resu\n",
      "platehole2.5.resu\n",
      "platehole2.0.resu\n",
      "platehole3.5.resu\n",
      "platehole6.0.resu\n",
      "platehole5.0.resu\n"
     ]
    }
   ],
   "source": [
    "# Initialize Array to store the Mesh Sizes\n",
    "mesh_convergence = []\n",
    "\n",
    "for root, dirs,files in os.walk('.'):\n",
    "    for filename in files:\n",
    "        if (os.path.splitext(filename)[1]==\".resu\" and len(filename)>14):\n",
    "            print(filename)\n",
    "            \n",
    "            myfile = open(filename,\"r\")\n",
    "\n",
    "            content = myfile.read()\n",
    "            dispRegex2 = re.compile(r'LA VALEUR MAXIMALE DE VMIS     EST  {1,}(-?\\d.\\d{14}E-?\\+?\\d\\d) ')\n",
    "\n",
    "            mo = os.path.splitext(filename)[0]\n",
    "            mo2 = dispRegex2.findall(content)\n",
    "            \n",
    "            mesh_convergence.append([float(mo[9:]),float(mo2[0])])\n",
    "            \n",
    "            myfile.close()"
   ]
  },
  {
   "cell_type": "code",
   "execution_count": 3,
   "metadata": {},
   "outputs": [
    {
     "data": {
      "text/plain": [
       "[[5.5, 323.564770192393],\n",
       " [3.0, 354.236480197372],\n",
       " [1.0, 371.945078606738],\n",
       " [1.5, 369.260641596534],\n",
       " [6.5, 320.148515970293],\n",
       " [4.0, 346.636701440271],\n",
       " [4.5, 340.447820247344],\n",
       " [2.5, 361.194123162522],\n",
       " [2.0, 364.848662249931],\n",
       " [3.5, 351.351559027858],\n",
       " [6.0, 320.262879981185],\n",
       " [5.0, 280.327333445231]]"
      ]
     },
     "execution_count": 3,
     "metadata": {},
     "output_type": "execute_result"
    }
   ],
   "source": [
    "mesh_convergence"
   ]
  },
  {
   "cell_type": "code",
   "execution_count": 4,
   "metadata": {},
   "outputs": [],
   "source": [
    "#Sort the array\n",
    "mesh_convergence2 = sorted(mesh_convergence, key=lambda x: x[0])"
   ]
  },
  {
   "cell_type": "code",
   "execution_count": 5,
   "metadata": {},
   "outputs": [
    {
     "data": {
      "text/plain": [
       "[[1.0, 371.945078606738],\n",
       " [1.5, 369.260641596534],\n",
       " [2.0, 364.848662249931],\n",
       " [2.5, 361.194123162522],\n",
       " [3.0, 354.236480197372],\n",
       " [3.5, 351.351559027858],\n",
       " [4.0, 346.636701440271],\n",
       " [4.5, 340.447820247344],\n",
       " [5.0, 280.327333445231],\n",
       " [5.5, 323.564770192393],\n",
       " [6.0, 320.262879981185],\n",
       " [6.5, 320.148515970293]]"
      ]
     },
     "execution_count": 5,
     "metadata": {},
     "output_type": "execute_result"
    }
   ],
   "source": [
    "mesh_convergence2"
   ]
  },
  {
   "cell_type": "code",
   "execution_count": 6,
   "metadata": {},
   "outputs": [],
   "source": [
    "#split into 2 lists for plotting\n",
    "mesh_sizes = [x[0] for x in mesh_convergence2]\n",
    "vmis_max = [x[1] for x in mesh_convergence2]"
   ]
  },
  {
   "cell_type": "code",
   "execution_count": 7,
   "metadata": {},
   "outputs": [
    {
     "data": {
      "text/plain": [
       "[371.945078606738,\n",
       " 369.260641596534,\n",
       " 364.848662249931,\n",
       " 361.194123162522,\n",
       " 354.236480197372,\n",
       " 351.351559027858,\n",
       " 346.636701440271,\n",
       " 340.447820247344,\n",
       " 280.327333445231,\n",
       " 323.564770192393,\n",
       " 320.262879981185,\n",
       " 320.148515970293]"
      ]
     },
     "execution_count": 7,
     "metadata": {},
     "output_type": "execute_result"
    }
   ],
   "source": [
    "vmis_max"
   ]
  },
  {
   "cell_type": "code",
   "execution_count": 8,
   "metadata": {},
   "outputs": [],
   "source": [
    "import matplotlib.pyplot as plt"
   ]
  },
  {
   "cell_type": "code",
   "execution_count": 9,
   "metadata": {},
   "outputs": [
    {
     "data": {
      "image/png": "[encoded data removed]",
      "text/plain": [
       "<Figure size 432x288 with 1 Axes>"
      ]
     },
     "metadata": {
      "needs_background": "light"
     },
     "output_type": "display_data"
    }
   ],
   "source": [
    "#Plotting using Matplotlib\n",
    "fig, ax = plt.subplots()\n",
    "ax.plot(mesh_sizes,vmis_max)\n",
    "ax.set(xlabel=\"mesh size (mm)\",ylabel=\"Max Von Mises Stress (MPa)\",title=\"Mesh Convergence Graph\")\n",
    "ax.grid()\n",
    "\n",
    "fig.savefig(\"mesh_convergence.png\")\n",
    "plt.show()"
   ]
  },
  {
   "cell_type": "code",
   "execution_count": 15,
   "metadata": {},
   "outputs": [],
   "source": [
    "results_file = open(\"mesh_convergence.txt\",\"w\")\n",
    "results_file.write(\"mesh_size,VMises(MPa)\\n\")\n",
    "for res in mesh_convergence2:\n",
    "    results_file.write(str(res[0])+\",\"+str(res[1])+\"\\n\")\n",
    "\n",
    "results_file.close()"
   ]
  },
  {
   "cell_type": "code",
   "execution_count": null,
   "metadata": {},
   "outputs": [],
   "source": []
  }
 ],
 "metadata": {
  "kernelspec": {
   "display_name": "Python 3",
   "language": "python",
   "name": "python3"
  },
  "language_info": {
   "codemirror_mode": {
    "name": "ipython",
    "version": 3
   },
   "file_extension": ".py",
   "mimetype": "text/x-python",
   "name": "python",
   "nbconvert_exporter": "python",
   "pygments_lexer": "ipython3",
   "version": "3.8.3"
  }
 },
 "nbformat": 4,
 "nbformat_minor": 4
}
